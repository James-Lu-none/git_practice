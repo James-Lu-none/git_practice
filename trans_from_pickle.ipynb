{
 "cells": [
  {
   "cell_type": "code",
   "execution_count": null,
   "metadata": {},
   "outputs": [],
   "source": [
    "import numpy as np\n",
    "import sys\n",
    "import os\n",
    "import pickle\n",
    "import csv\n",
    "\n",
    "from pathlib import Path\n",
    "from data_set_trans import *\n",
    "\n",
    "current_file_path = Path(get_ipython().run_line_magic('pwd', ''))\n",
    "root_path = current_file_path\n",
    "while not any(file.suffix == \".ipynb\" for file in root_path.glob(\"*\")):\n",
    "    root_path = root_path.parent\n",
    "\n",
    "root_path = str(root_path)\n",
    "print(root_path)\n",
    "\n",
    "data_dir = os.path.join(root_path,'python_manual_data')\n",
    "# -----------------------------讀取all data\n",
    "data_files = os.listdir(data_dir)\n",
    "\n",
    "all_data = np.zeros((15, 15))\n",
    "\n",
    "for f in data_files:\n",
    "    print(\"reading file {}\".format(f))\n",
    "    f = \"{}/{}\".format(data_dir, f)\n",
    "    with open(f, 'rb') as f:\n",
    "        data = pickle.load(f)\n",
    "    # print(new_dict)\n",
    "    array_data = np.array(data)\n",
    "    # print(a)\n",
    "    for game in array_data:\n",
    "        all_data = np.append(all_data, game, axis=0)\n",
    "        # print(game)c\n",
    "        # if array_data.shape[0] == 1:\n",
    "        #     all_data = np.append(all_data, array_data, axis=0)\n",
    "        # else:\n",
    "        #     all_data = np.append(all_data, array_data, axis=0)\n",
    "all_data = all_data.reshape(int(all_data.shape[0]/15), 15, 15)\n",
    "all_data = all_data[1:]\n",
    "# print([all_data[1]])\n",
    "\n",
    "last_n=1\n",
    "# -------------------------------\n",
    "data_final = []\n",
    "for game_state in np.array(data_augmentation(all_data)):\n",
    "    data_final.append(data_trans(game_state,last_n))\n",
    "# -------------------------------\n",
    "save_trans_data(root_path,data_final,'data_from_pickle',last_n)\n",
    "# csv_file = 'Gomoku_Data.csv'\n",
    "# with open(csv_file, 'w', newline='') as file:\n",
    "#     writer = csv.writer(file)\n",
    "#     writer.writerow(data_final)\n",
    "\n",
    "# #[第幾盤][第幾手][0]  [特徵0~3][x][y] 局勢\n",
    "# #[第幾盤][第幾手][1] 機率\n",
    "# #[第幾盤][第幾手][2] 誰贏\n",
    "# print(\"/n/n/ndata:\")\n",
    "# print(all_data[9])\n",
    "# print(data_final[9])\n"
   ]
  },
  {
   "cell_type": "code",
   "execution_count": null,
   "metadata": {},
   "outputs": [],
   "source": [
    "# n=1\n",
    "# m=3\n",
    "# print(list(data_final[n][m][0][3]))\n",
    "# print(list(data_final[n][m][0][2]))"
   ]
  }
 ],
 "metadata": {
  "kernelspec": {
   "display_name": "tensorflow",
   "language": "python",
   "name": "python3"
  },
  "language_info": {
   "codemirror_mode": {
    "name": "ipython",
    "version": 3
   },
   "file_extension": ".py",
   "mimetype": "text/x-python",
   "name": "python",
   "nbconvert_exporter": "python",
   "pygments_lexer": "ipython3",
   "version": "3.9.16"
  },
  "orig_nbformat": 4
 },
 "nbformat": 4,
 "nbformat_minor": 2
}
